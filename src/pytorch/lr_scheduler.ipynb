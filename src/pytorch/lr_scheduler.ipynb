{
 "cells": [
  {
   "cell_type": "code",
   "execution_count": null,
   "metadata": {},
   "outputs": [],
   "source": [
    "import torch\n",
    "import torch.nn as nn\n",
    "import torch.optim as optim\n",
    "from data import AudioDataset, AudioDataLoader\n",
    "from matplotlib import pyplot as plt\n",
    "\n",
    "class Model(nn.Module):\n",
    "    def __init__(self):\n",
    "        super(Model, self).__init__()\n",
    "        self.linear = nn.Linear(10, 10)\n",
    "        self.activation = nn.ReLU()\n",
    "    def forward(self, x):\n",
    "        return self.activation(self.linear1(x))\n",
    "\n",
    "# data\n",
    "tr_dataset = AudioDatset('tr')\n",
    "data_loader = AudioDataLoader(tr_dataset, batch_size=3, shuffle=1)\n",
    "# model\n",
    "model = Model()\n",
    "# loss\n",
    "loss = nn.MSELoss()\n",
    "# optimizer\n",
    "optimizer = optim.Adam(model.parameters(), lr=1e-3)\n",
    "#scheduler\n",
    "scheduler = optim.lr_scheduler.LambdaLR(optimizer=optimizer,\n",
    "                                        lr_lambda=lambda epoch: 0.95 ** epoch,\n",
    "                                        last_epoch=-1,\n",
    "                                        verbose=False)\n",
    "\n",
    "epochs=100\n",
    "for epoch in range(epochs):\n",
    "    for i, (data) in enumerate(data_loader):\n",
    "        x_data, y_data = data\n",
    "        optimizer.zero_grad()\n",
    "\n",
    "        estimated_y = model(x_data)\n",
    "        loss = loss(y_data, estimated_y)\n",
    "        loss.backward()\n",
    "        optimizer.step()\n",
    "    scheduler.step() # you can set it like this!"
   ]
  }
 ],
 "metadata": {
  "interpreter": {
   "hash": "931c51123006e60165af15061917cfb5158bca79165496975f65700b2eb01b27"
  },
  "kernelspec": {
   "display_name": "Python 3.6.9 ('my_utils': venv)",
   "language": "python",
   "name": "python3"
  },
  "language_info": {
   "name": "python",
   "version": "3.6.9"
  },
  "orig_nbformat": 4
 },
 "nbformat": 4,
 "nbformat_minor": 2
}
