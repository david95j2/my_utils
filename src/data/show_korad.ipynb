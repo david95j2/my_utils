{
 "cells": [
  {
   "cell_type": "code",
   "execution_count": 11,
   "metadata": {},
   "outputs": [],
   "source": [
    "import os\n",
    "from tqdm import tqdm\n",
    "\n",
    "import shutil\n",
    "import cv2\n",
    "import json\n",
    "import random\n",
    "random.seed(77)\n"
   ]
  },
  {
   "cell_type": "code",
   "execution_count": 12,
   "metadata": {},
   "outputs": [],
   "source": [
    "\n",
    "# data hunt format(4 points[x,y])\n",
    "json_dir_name = os.path.expanduser(\"~/Desktop/joo/data/korad/data/labeling/\")\n",
    "tiff_dir_name = os.path.expanduser(\"~/Desktop/joo/data/korad/data/images/\")\n",
    "save_dir = \"./korad_boxes\"\n",
    "cwd = os.getcwd()"
   ]
  },
  {
   "cell_type": "code",
   "execution_count": 13,
   "metadata": {},
   "outputs": [],
   "source": [
    "def json_name_check(img_id, json_list):\n",
    "    # print(json_list)\n",
    "    for idx, json_name in enumerate(json_list) :\n",
    "        if img_id in json_name:\n",
    "            return idx"
   ]
  },
  {
   "cell_type": "code",
   "execution_count": 16,
   "metadata": {},
   "outputs": [
    {
     "name": "stderr",
     "output_type": "stream",
     "text": [
      "  0%|          | 0/6 [00:00<?, ?it/s]"
     ]
    },
    {
     "name": "stdout",
     "output_type": "stream",
     "text": [
      "03\n",
      "/home/joo/Desktop/joo/data/korad/data/labeling/03\n"
     ]
    },
    {
     "name": "stderr",
     "output_type": "stream",
     "text": [
      "\n"
     ]
    },
    {
     "ename": "IsADirectoryError",
     "evalue": "[Errno 21] Is a directory: '/home/joo/Desktop/joo/data/korad/data/labeling/03'",
     "output_type": "error",
     "traceback": [
      "\u001b[0;31m---------------------------------------------------------------------------\u001b[0m",
      "\u001b[0;31mIsADirectoryError\u001b[0m                         Traceback (most recent call last)",
      "\u001b[0;32m<ipython-input-16-2260c02a1b54>\u001b[0m in \u001b[0;36m<module>\u001b[0;34m\u001b[0m\n\u001b[1;32m     24\u001b[0m     \u001b[0mtarget_path\u001b[0m \u001b[0;34m=\u001b[0m \u001b[0mos\u001b[0m\u001b[0;34m.\u001b[0m\u001b[0mpath\u001b[0m\u001b[0;34m.\u001b[0m\u001b[0mjoin\u001b[0m\u001b[0;34m(\u001b[0m\u001b[0mjson_dir_name\u001b[0m\u001b[0;34m,\u001b[0m \u001b[0mjson_name\u001b[0m\u001b[0;34m)\u001b[0m\u001b[0;34m\u001b[0m\u001b[0;34m\u001b[0m\u001b[0m\n\u001b[1;32m     25\u001b[0m     \u001b[0mprint\u001b[0m\u001b[0;34m(\u001b[0m\u001b[0mtarget_path\u001b[0m\u001b[0;34m)\u001b[0m\u001b[0;34m\u001b[0m\u001b[0;34m\u001b[0m\u001b[0m\n\u001b[0;32m---> 26\u001b[0;31m     \u001b[0;32mwith\u001b[0m \u001b[0mopen\u001b[0m\u001b[0;34m(\u001b[0m\u001b[0mtarget_path\u001b[0m\u001b[0;34m,\u001b[0m \u001b[0;34m\"r\"\u001b[0m\u001b[0;34m)\u001b[0m \u001b[0;32mas\u001b[0m \u001b[0mbox_j\u001b[0m \u001b[0;34m:\u001b[0m\u001b[0;34m\u001b[0m\u001b[0;34m\u001b[0m\u001b[0m\n\u001b[0m\u001b[1;32m     27\u001b[0m         \u001b[0mcjson\u001b[0m \u001b[0;34m=\u001b[0m \u001b[0mjson\u001b[0m\u001b[0;34m.\u001b[0m\u001b[0mload\u001b[0m\u001b[0;34m(\u001b[0m\u001b[0mbox_j\u001b[0m\u001b[0;34m)\u001b[0m\u001b[0;34m\u001b[0m\u001b[0;34m\u001b[0m\u001b[0m\n\u001b[1;32m     28\u001b[0m \u001b[0;34m\u001b[0m\u001b[0m\n",
      "\u001b[0;31mIsADirectoryError\u001b[0m: [Errno 21] Is a directory: '/home/joo/Desktop/joo/data/korad/data/labeling/03'"
     ]
    }
   ],
   "source": [
    "# img_list = os.listdir(os.path.join(dir_name, \"JPEGImages\"))\n",
    "img_list = os.listdir(tiff_dir_name)\n",
    "json_list = os.listdir(json_dir_name)\n",
    "# json_list = os.listdir(os.path.join(json_dir_name, \"Annotations\"))\n",
    "classes = ['AlligatorCrack', 'ConcreteCrack', 'Spalling', 'Efflorescene', 'Exposure']\n",
    "\n",
    "colors = []\n",
    "for i in range(len(classes)):\n",
    "    rd1 = random.randint(0, 256)\n",
    "    rd2 = random.randint(0, 256)\n",
    "    rd3 = random.randint(0, 256)\n",
    "    rd_color = (rd1, rd2, rd3)\n",
    "    colors.append(rd_color)\n",
    "\n",
    "for img_id in tqdm(img_list):\n",
    "\n",
    "    data_id = img_id.split(\".tiff\")[0]\n",
    "    json_name = data_id + \".jpeg\" + \".json\"\n",
    "\n",
    "\n",
    "    idx = json_name_check(data_id, json_list)\n",
    "    json_name = json_list[idx]\n",
    "    print(json_name)\n",
    "    target_path = os.path.join(json_dir_name, json_name)\n",
    "    print(target_path)\n",
    "    with open(target_path, \"r\") as box_j :\n",
    "        cjson = json.load(box_j)\n",
    "\n",
    "    img = cv2.imread(os.path.join(tiff_dir_name, img_id))\n",
    "\n",
    "    for box_info in cjson['labels']:\n",
    "        cls = box_info['label']\n",
    "        # print(box_info['boundingPoly']['vertices'])\n",
    "\n",
    "        color_idx = classes.index(cls)\n",
    "        color = colors[color_idx]\n",
    "        box_info['boundingPoly']['vertices']\n",
    "        # print(box_info['boundingPoly']['vertices'][0])\n",
    "\n",
    "        # jsonbox = obj.find('bndbox')\n",
    "        xmin = box_info['boundingPoly']['vertices'][0]['x']\n",
    "        xmax = box_info['boundingPoly']['vertices'][2]['x']\n",
    "        ymin = box_info['boundingPoly']['vertices'][0]['y']\n",
    "        ymax = box_info['boundingPoly']['vertices'][2]['y']\n",
    "        img = cv2.rectangle(img, (int(xmin), int(ymin)), (int(xmax), int(ymax)), color, 3)\n",
    "\n",
    "    cv2.imwrite(os.path.join(save_dir, img_id.replace('.tiff', '.png')), img)\n",
    "    break\n"
   ]
  },
  {
   "cell_type": "code",
   "execution_count": null,
   "metadata": {},
   "outputs": [],
   "source": []
  }
 ],
 "metadata": {
  "interpreter": {
   "hash": "931c51123006e60165af15061917cfb5158bca79165496975f65700b2eb01b27"
  },
  "kernelspec": {
   "display_name": "Python 3.6.9 ('my_utils': venv)",
   "language": "python",
   "name": "python3"
  },
  "language_info": {
   "codemirror_mode": {
    "name": "ipython",
    "version": 3
   },
   "file_extension": ".py",
   "mimetype": "text/x-python",
   "name": "python",
   "nbconvert_exporter": "python",
   "pygments_lexer": "ipython3",
   "version": "3.6.9"
  },
  "orig_nbformat": 4
 },
 "nbformat": 4,
 "nbformat_minor": 2
}
