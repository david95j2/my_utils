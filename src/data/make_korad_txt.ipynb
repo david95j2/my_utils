{
 "cells": [
  {
   "cell_type": "markdown",
   "metadata": {},
   "source": [
    "# make korad txt file (coco format)"
   ]
  },
  {
   "cell_type": "code",
   "execution_count": 6,
   "metadata": {},
   "outputs": [],
   "source": [
    "import json\n",
    "import os\n",
    "import glob\n",
    "import random\n",
    "import numpy as np\n",
    "import tqdm\n",
    "import shutil"
   ]
  },
  {
   "cell_type": "markdown",
   "metadata": {},
   "source": [
    "### VOC box (xmin,ymin,xmax,ymax) to COCO box (xmin,ymin, box-width(xmax-xmin), box-height(ymax-ymin))"
   ]
  },
  {
   "cell_type": "code",
   "execution_count": 2,
   "metadata": {},
   "outputs": [],
   "source": [
    "def convert(size, box):\n",
    "    dw = 1./(size[0])\n",
    "    dh = 1./(size[1])\n",
    "    x = (box[0] + box[1])/2.0 - 1\n",
    "    y = (box[2] + box[3])/2.0 - 1\n",
    "    w = box[1] - box[0]\n",
    "    h = box[3] - box[2]\n",
    "    x = '{:.6f}'.format(round(x*dw,6))\n",
    "    w = '{:.6f}'.format(round(w*dw,6))\n",
    "    y = '{:.6f}'.format(round(y*dh,6))\n",
    "    h = '{:.6f}'.format(round(h*dh,6))\n",
    "    if np.float16(x) < 0 : x = \"0.000000\"\n",
    "    if np.float16(y) < 0 : y = \"0.000000\"    \n",
    "    return x,y,w,h"
   ]
  },
  {
   "cell_type": "markdown",
   "metadata": {},
   "source": [
    "### path random 으로 섞기"
   ]
  },
  {
   "cell_type": "code",
   "execution_count": 11,
   "metadata": {},
   "outputs": [],
   "source": [
    "np.random.seed(2)\n",
    "\n",
    "root_path = os.path.expanduser(\"~/Desktop/joo/data/korad/data/custom/\")\n",
    "label_set = set(map(lambda x : x[-13:-4] if x[-4:]==\".jpg\" else x[-14:-5],glob.glob(root_path+\"images_plan/*/*\")))\n",
    "labels = list(label_set)\n",
    "random.shuffle(labels)"
   ]
  },
  {
   "cell_type": "markdown",
   "metadata": {},
   "source": []
  },
  {
   "cell_type": "code",
   "execution_count": 12,
   "metadata": {},
   "outputs": [],
   "source": [
    "with open(\"./korad_boxes/all_list.json\", \"r\") as f:\n",
    "    all_dict = json.load(f)\n",
    "    train_ratio = 0.82\n",
    "    val_ratio = 0.15\n",
    "    test_ratio = 0.03\n",
    "\n",
    "    train_set = 0\n",
    "    val_set = 0\n",
    "    test_set = 0\n",
    "    \n",
    "    error_set = 0\n",
    "\n",
    "    for index, data_id in enumerate(all_dict.keys()):\n",
    "        # if index == 10 : break\n",
    "            \n",
    "        rd_num = np.random.random()\n",
    "        \n",
    "        _, _, json_true = all_dict[data_id]\n",
    "        \n",
    "        if json_true == None :rd_num = 1\n",
    "        \n",
    "        if rd_num < train_ratio :\n",
    "            train_set += 1\n",
    "            datatype = [\"train\"]\n",
    "\n",
    "        elif rd_num < train_ratio + val_ratio:\n",
    "            val_set += 1\n",
    "            datatype = [\"val\"]\n",
    "        else :\n",
    "            if rd_num == 1 : error_set += 1\n",
    "            test_set += 1\n",
    "            datatype = [\"test\"]\n",
    "        all_dict[data_id] = all_dict[data_id] + datatype\n",
    " "
   ]
  },
  {
   "cell_type": "code",
   "execution_count": 13,
   "metadata": {},
   "outputs": [
    {
     "name": "stdout",
     "output_type": "stream",
     "text": [
      "train_set : 18421개 (0.79%)\n",
      "val_set : 3419개 (0.15%)\n",
      "test_set : 646 + 914(error file) = 1560개 (0.07%)\n"
     ]
    }
   ],
   "source": [
    "print(f\"train_set : {train_set}개 ({train_set/23400:.2f}%)\")\n",
    "print(f\"val_set : {val_set}개 ({val_set/23400:.2f}%)\")\n",
    "print(f\"test_set : {test_set - error_set} + {error_set}(error file) = {test_set}개 ({test_set/23400:.2f}%)\")"
   ]
  },
  {
   "cell_type": "code",
   "execution_count": 15,
   "metadata": {},
   "outputs": [],
   "source": [
    "classes = [\"ConcreteCrack\", \"AlligatorCrack\",\"Spalling\", \"Efflorescene\", \"Exposure\"]\n",
    "year = \"2022\"\n",
    "save_path = [\"train\",\"val\",\"test\"]\n",
    "save_type = [\"2022\",\"2023\"]\n",
    "save_type_num = 0 #0 == multi  /  1 == single\n",
    "error_label = []\n",
    "\n",
    "# txt 초기화\n",
    "# for write_type in save_path:\n",
    "#     with open(root_path+write_type+save_type[save_type_num]+\".txt\", \"w\") as f: f.writelines(\"\")\n",
    "\n",
    "# txt in labels\n",
    "for file in labels:\n",
    "    \n",
    "    number, img_file, json_file_name, data_type = all_dict[file]\n",
    "\n",
    "    # with open(root_path+data_type+save_type[save_type_num]+\".txt\", \"a\") as f: \n",
    "    #         f.writelines(\"./images/\"+data_type+save_type[0]+\"/\"+img_file+\"\\n\")\n",
    "            # plan\n",
    "            # file.writelines(\"./images/\"+number+\"/\"+img_file+\"\\n\")\n",
    "\n",
    "    # train test val image 나누기\n",
    "    shutil.copyfile(root_path+\"images_plan/\"+number+\"/\"+img_file, root_path+\"images/\"+data_type+save_type[save_type_num]+\"/\"+img_file)\n",
    "    continue\n",
    "    if json_file_name == None: continue\n",
    "    \n",
    "    with open(root_path+\"labeling/\"+number+\"/\"+json_file_name, \"r\") as f: json_file = json.load(f)\n",
    "\n",
    "    width = json_file['images']['width']\n",
    "    height = json_file['images']['height']\n",
    "    save_true = True\n",
    "\n",
    "    for label in json_file['labels']:\n",
    "        class_num = str(classes.index(label['label']))\n",
    "        xmin = label['boundingPoly']['vertices'][0]['xmin']\n",
    "        ymin = label['boundingPoly']['vertices'][0]['ymin']\n",
    "        xmax = label['boundingPoly']['vertices'][0]['xmax']\n",
    "        ymax = label['boundingPoly']['vertices'][0]['ymax']\n",
    "\n",
    "        bb = convert((width,height),(xmin,xmax,ymin,ymax))\n",
    "        \n",
    "        # concreteCrack 하나만 잡기\n",
    "        if save_type_num != 0 and class_num != \"0\" : continue\n",
    "\n",
    "        # error_label 제거\n",
    "        if bb[0] == \"0.000000\" and bb[1] == \"0.000000\" and bb[2] == \"0.000000\" and bb[3] == \"0.000000\": \n",
    "            error_label.append({file:[label['label'],bb]})\n",
    "            continue\n",
    "        \n",
    "        if save_true:\n",
    "            with open(root_path+\"labels/\"+data_type+save_type[save_type_num]+\"/\"+json_file_name[:-5]+\".txt\", \"w\") as f:\n",
    "                f.writelines(class_num + \" \"+bb[0]+\" \"+bb[1]+\" \"+bb[2]+\" \"+bb[3]+\" \\n\")\n",
    "            save_true = False\n",
    "        else:\n",
    "            with open(root_path+\"labels/\"+data_type+save_type[save_type_num]+\"/\"+json_file_name[:-5]+\".txt\", \"a\") as f:\n",
    "                f.writelines(class_num + \" \"+bb[0]+\" \"+bb[1]+\" \"+bb[2]+\" \"+bb[3]+\" \\n\")\n",
    "    # break"
   ]
  },
  {
   "cell_type": "code",
   "execution_count": 67,
   "metadata": {},
   "outputs": [
    {
     "name": "stdout",
     "output_type": "stream",
     "text": [
      "제거된 error_label 개수 : 4개\n",
      "[{'C03_00586': ['AlligatorCrack', ('0.000000', '0.000000', '0.000000', '0.000000')]}, {'C02_02018': ['Spalling', ('0.000000', '0.000000', '0.000000', '0.000000')]}, {'C04_03388': ['ConcreteCrack', ('0.000000', '0.000000', '0.000000', '0.000000')]}, {'C03_00193': ['Efflorescene', ('0.000000', '0.000000', '0.000000', '0.000000')]}]\n"
     ]
    }
   ],
   "source": [
    "print(f\"제거된 error_label 개수 : {len(error_label)}개\")\n",
    "print(error_label)"
   ]
  },
  {
   "cell_type": "code",
   "execution_count": 6,
   "metadata": {},
   "outputs": [
    {
     "name": "stdout",
     "output_type": "stream",
     "text": [
      "loading Roboflow workspace...\n",
      "loading Roboflow project...\n",
      "Downloading Dataset Version Zip in Hard-Hat-Sample-2 to yolov5pytorch: 100% [6384914 / 6384914] bytes\n"
     ]
    },
    {
     "name": "stderr",
     "output_type": "stream",
     "text": [
      "Extracting Dataset Version Zip to Hard-Hat-Sample-2 in yolov5pytorch:: 100%|██████████| 491/491 [00:00<00:00, 10866.99it/s]\n"
     ]
    }
   ],
   "source": []
  },
  {
   "cell_type": "code",
   "execution_count": null,
   "metadata": {},
   "outputs": [],
   "source": []
  }
 ],
 "metadata": {
  "interpreter": {
   "hash": "3a1e0c3fd6bfde654019c6597bc01b0340aa41dd1aa19c1037b8b7c3290c1f6b"
  },
  "kernelspec": {
   "display_name": "Python 3.6.9 ('utils': venv)",
   "language": "python",
   "name": "python3"
  },
  "language_info": {
   "codemirror_mode": {
    "name": "ipython",
    "version": 3
   },
   "file_extension": ".py",
   "mimetype": "text/x-python",
   "name": "python",
   "nbconvert_exporter": "python",
   "pygments_lexer": "ipython3",
   "version": "3.6.9"
  },
  "orig_nbformat": 4
 },
 "nbformat": 4,
 "nbformat_minor": 2
}
