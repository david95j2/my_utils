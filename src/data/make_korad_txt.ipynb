{
 "cells": [
  {
   "cell_type": "markdown",
   "metadata": {},
   "source": [
    "# make korad txt file (coco format)"
   ]
  },
  {
   "cell_type": "code",
   "execution_count": 149,
   "metadata": {},
   "outputs": [],
   "source": [
    "import json\n",
    "import os\n",
    "import glob\n",
    "import random\n",
    "import numpy as np"
   ]
  },
  {
   "cell_type": "markdown",
   "metadata": {},
   "source": [
    "### VOC box (xmin,ymin,xmax,ymax) to COCO box (xmin,ymin, box-width(xmax-xmin), box-height(ymax-ymin))"
   ]
  },
  {
   "cell_type": "code",
   "execution_count": null,
   "metadata": {},
   "outputs": [],
   "source": [
    "def convert(size, box):\n",
    "    dw = 1./(size[0])\n",
    "    dh = 1./(size[1])\n",
    "    x = (box[0] + box[1])/2.0 - 1\n",
    "    y = (box[2] + box[3])/2.0 - 1\n",
    "    w = box[1] - box[0]\n",
    "    h = box[3] - box[2]\n",
    "    x = '{:.6f}'.format(round(x*dw,6))\n",
    "    w = '{:.6f}'.format(round(w*dw,6))\n",
    "    y = '{:.6f}'.format(round(y*dh,6))\n",
    "    h = '{:.6f}'.format(round(h*dh,6))\n",
    "    return x,y,w,h"
   ]
  },
  {
   "cell_type": "markdown",
   "metadata": {},
   "source": [
    "### path random 으로 섞기"
   ]
  },
  {
   "cell_type": "code",
   "execution_count": null,
   "metadata": {},
   "outputs": [],
   "source": [
    "random.seed(10)\n",
    "\n",
    "root_path = os.path.expanduser(\"~/Desktop/joo/data/korad/data/custom/\")\n",
    "labels = list(set(map(lambda x : x[-13:-4] if x[-4:]==\".jpg\" else x[-14:-5],glob.glob(root_path+\"images/*/*\"))))\n",
    "random.shuffle(labels)"
   ]
  },
  {
   "cell_type": "markdown",
   "metadata": {},
   "source": []
  },
  {
   "cell_type": "code",
   "execution_count": 160,
   "metadata": {},
   "outputs": [
    {
     "name": "stdout",
     "output_type": "stream",
     "text": [
      "18790\n",
      "3440\n",
      "1170\n"
     ]
    }
   ],
   "source": [
    "with open(\"./korad_boxes/all_list.json\", \"r\") as f:\n",
    "    all_dict = json.load(f)\n",
    "    train_ratio = 0.8\n",
    "    val_ratio = 0.15\n",
    "    test_ratio = 0.05\n",
    "\n",
    "    train_set = 0\n",
    "    val_set = 0\n",
    "    test_set = 0\n",
    "\n",
    "    for data_id in all_dict.keys():\n",
    "        rd_num = random.random()\n",
    "        if rd_num < train_ratio :\n",
    "            train_set += 1\n",
    "            datatype = 'train'\n",
    "        elif rd_num < train_ratio + val_ratio:\n",
    "            val_set += 1\n",
    "            datatype = 'val'\n",
    "        else :\n",
    "            test_set += 1\n",
    "            datatype = 'test'\n",
    "\n",
    "    print(train_set)\n",
    "    print(val_set)\n",
    "    print(test_set)\n"
   ]
  },
  {
   "cell_type": "code",
   "execution_count": null,
   "metadata": {},
   "outputs": [],
   "source": [
    "# bbox -> yolo bbox\n",
    "for index, file in enumerate(labels):\n",
    "    number, img_file, json_file_name = all_dict[file]\n",
    "\n",
    "    if json_file_name == None:\n",
    "        pass\n",
    "    \n",
    "    with open(root_path+\"labeling/\"+number+\"/\"+json_file_name, \"r\") as f: json_file = json.load(f)\n",
    "        \n",
    "    print(json_file)        \n",
    "    break\n",
    "    # 저장 어따 할레????\n",
    "    # with open(\"pre_pro/\"+type+xml_file[:-4]+\".txt\", \"w\") as file:\n",
    "    #     file.writelines(\"0 \"+bb[0]+\" \"+bb[1]+\" \"+bb[2]+\" \"+bb[3]+\" \")\n"
   ]
  },
  {
   "cell_type": "code",
   "execution_count": null,
   "metadata": {},
   "outputs": [],
   "source": [
    "# coco 처럼 train2022.txt, val2022.txt, test2022.txt 3개의 파일 만들기\n",
    "# # bbox -> yolo bbox\n",
    "year = \"2022\"\n",
    "\n",
    "for type in type_path:\n",
    "    img_root, img_dir, img_files = next(os.walk(os.path.join(root_path+type+jpg_anno_path[1])))\n",
    "    img_files.sort()\n",
    "\n",
    "    for index, img_file in enumerate(img_files):\n",
    "        if index == 0:\n",
    "            with open(\"temp/\"+type[:-1]+year+\".txt\", \"w\") as file:\n",
    "                file.write(\"./images/\"+type[:-1]+year+\"/\"+img_file)\n",
    "                continue\n",
    "        \n",
    "        with open(\"temp/\"+type[:-1]+year+\".txt\", \"a\") as file:\n",
    "            file.write(\"\\n./images/\"+type[:-1]+year+\"/\"+img_file)         \n"
   ]
  }
 ],
 "metadata": {
  "interpreter": {
   "hash": "3a1e0c3fd6bfde654019c6597bc01b0340aa41dd1aa19c1037b8b7c3290c1f6b"
  },
  "kernelspec": {
   "display_name": "Python 3.6.9 ('utils': venv)",
   "language": "python",
   "name": "python3"
  },
  "language_info": {
   "codemirror_mode": {
    "name": "ipython",
    "version": 3
   },
   "file_extension": ".py",
   "mimetype": "text/x-python",
   "name": "python",
   "nbconvert_exporter": "python",
   "pygments_lexer": "ipython3",
   "version": "3.6.9"
  },
  "orig_nbformat": 4
 },
 "nbformat": 4,
 "nbformat_minor": 2
}
