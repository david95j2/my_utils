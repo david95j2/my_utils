{
 "cells": [
  {
   "cell_type": "code",
   "execution_count": 1,
   "metadata": {},
   "outputs": [],
   "source": [
    "import os\n",
    "import cv2\n",
    "import json\n",
    "import random\n",
    "import natsort\n",
    "import matplotlib.pyplot as plt\n",
    "random.seed(44)"
   ]
  },
  {
   "cell_type": "code",
   "execution_count": 2,
   "metadata": {},
   "outputs": [],
   "source": [
    "json_path = os.path.expanduser(\"~/Desktop/joo/data/korad/data/custom/labeling/\")\n",
    "tiff_path = os.path.expanduser(\"~/Desktop/joo/data/korad/data/custom/images_plan/\")\n",
    "box_path = os.path.expanduser(\"~/Desktop/joo/data/korad/data/custom/box/\")\n",
    "# test_path = os.path.expanduser(\"~/Desktop/joo/data/korad/data/custom/test/\")\n",
    "\n",
    "numbers = os.listdir(tiff_path)\n",
    "numbers.sort()\n",
    "\n",
    "all_dict = {}"
   ]
  },
  {
   "cell_type": "code",
   "execution_count": 3,
   "metadata": {},
   "outputs": [],
   "source": [
    "classes = ['AlligatorCrack', 'ConcreteCrack', 'Spalling', 'Efflorescene', 'Exposure']\n",
    "\n",
    "colors = []\n",
    "for i in range(len(classes)):\n",
    "    rd1 = random.randint(0, 256)\n",
    "    rd2 = random.randint(0, 256)\n",
    "    rd3 = random.randint(0, 256)\n",
    "    rd_color = (rd1, rd2, rd3)\n",
    "    colors.append(rd_color)\n"
   ]
  },
  {
   "cell_type": "markdown",
   "metadata": {},
   "source": [
    "labeling 이랑 image랑 file 명 맞춰서 dictionary 담기"
   ]
  },
  {
   "cell_type": "code",
   "execution_count": 4,
   "metadata": {},
   "outputs": [],
   "source": [
    "all_dict = {}\n",
    "folder_dict = {}\n",
    "\n",
    "# 업체 데이터 오류 파일\n",
    "with open(\"./korad_boxes/error_list.json\", \"r\") as f:\n",
    "    f = json.load(f)\n",
    "    error =list(f.keys())\n",
    "\n",
    "for number in numbers:\n",
    "    json_root,_,json_list = next(os.walk(os.path.join(json_path+number)))\n",
    "    tiff_root,_,tiff_list = next(os.walk(os.path.join(tiff_path+number)))    \n",
    "    json_list.sort()\n",
    "    tiff_list.sort()\n",
    "    slicing_num = -5\n",
    "\n",
    "    if number == \"01\":\n",
    "        test_tiff_list = set(map(lambda x : x.split(\".jpg\")[0], tiff_list))\n",
    "        test_json_list = set(map(lambda x : x.split(\".json\")[0], json_list))    \n",
    "        result = natsort.natsorted(list(test_tiff_list - test_json_list))\n",
    "        for a in error:\n",
    "            result.append(a)\n",
    "        \n",
    "        slicing_num = -4\n",
    "    temp_dict = {}\n",
    "\n",
    "    for tiff_file in tiff_list:\n",
    "        try:\n",
    "            result.index(tiff_file[:slicing_num])\n",
    "            all_dict[tiff_file[:slicing_num]] = [number, tiff_file, None]\n",
    "            temp_dict[tiff_file[:slicing_num]] = [number, tiff_file, None]\n",
    "        except ValueError:            \n",
    "            all_dict[tiff_file[:slicing_num]] = [number, tiff_file, tiff_file[:slicing_num]+\".json\"]\n",
    "            temp_dict[tiff_file[:slicing_num]] = [number, tiff_file, tiff_file[:slicing_num]+\".json\"]\n",
    "    folder_dict[number] = temp_dict\n",
    "\n"
   ]
  },
  {
   "cell_type": "markdown",
   "metadata": {},
   "source": [
    "폴더별 3900개 맞아야 함"
   ]
  },
  {
   "cell_type": "code",
   "execution_count": 5,
   "metadata": {},
   "outputs": [
    {
     "name": "stdout",
     "output_type": "stream",
     "text": [
      "total : 23400\n",
      "folder 01 count : 3900\n",
      "folder 02 count : 3900\n",
      "folder 03 count : 3900\n",
      "folder 04 count : 3900\n",
      "folder 05 count : 3900\n",
      "folder 06 count : 3900\n"
     ]
    }
   ],
   "source": [
    "# 3900 check!!\n",
    "print(f\"total : {len(all_dict)}\")\n",
    "\n",
    "for i in folder_dict:\n",
    "    print(f\"folder {i} count : {len(folder_dict[i])}\")\n",
    "\n",
    "# json 으로 만들기.\n",
    "# with open(\"./korad_boxes/all_list.json\", 'w', encoding='utf-8') as file:\n",
    "#     json.dump(all_dict, file)\n",
    "    \n",
    "# with open(\"./korad_boxes/folder_list.json\", 'w', encoding='utf-8') as file:\n",
    "#     json.dump(folder_dict, file)"
   ]
  },
  {
   "cell_type": "markdown",
   "metadata": {},
   "source": [
    "### Visualize"
   ]
  },
  {
   "cell_type": "code",
   "execution_count": 11,
   "metadata": {},
   "outputs": [],
   "source": [
    "for number in folder_dict:\n",
    "    if number != \"06\": continue\n",
    "\n",
    "    json_root,_,_ = next(os.walk(os.path.join(json_path+number)))\n",
    "    tiff_root,_,tiff_list = next(os.walk(os.path.join(tiff_path+number)))    \n",
    "    \n",
    "    tiff_list = random.sample(tiff_list, 3900)\n",
    "    slicing_num = -5\n",
    "    if number == \"01\": slicing_num = -4\n",
    "\n",
    "    for index, file in enumerate(tiff_list):\n",
    "        \n",
    "        if index == 5 : break\n",
    "        \n",
    "        # if file != \"C01_02550.jpg\" : continue\n",
    "        if all_dict[file[:slicing_num]][2] == None : continue\n",
    "        \n",
    "        json_file = all_dict[file[:slicing_num]][2]\n",
    "        \n",
    "        with open(json_root+\"/\"+json_file, \"r\") as f : cjson = json.load(f)\n",
    "        \n",
    "        img = cv2.imread(os.path.join(tiff_root+\"/\"+file))\n",
    "        img = cv2.cvtColor(img, cv2.COLOR_BGR2RGB)\n",
    "\n",
    "        edge_img = cv2.imread(os.path.join(tiff_root+\"/\"+file), cv2.IMREAD_GRAYSCALE)\n",
    "        sobel = cv2.Sobel(edge_img, cv2.CV_8U, 1, 0, 3)\n",
    "        laplacian = cv2.Laplacian(edge_img, cv2.CV_8U, ksize=3)        \n",
    "        edge_img = cv2.Canny(edge_img, 240, 360)\n",
    "\n",
    "        # print(file)\n",
    "        # for box_info in cjson['labels']:\n",
    "        #     cls = box_info['label']\n",
    "            \n",
    "        #     color_idx = classes.index(cls)\n",
    "        #     color = colors[color_idx]\n",
    "            \n",
    "        #     box_info = box_info['boundingPoly']['vertices'][0]\n",
    "            \n",
    "        #     xmin = int(box_info['xmin'])\n",
    "        #     xmax = int(box_info['xmax'])\n",
    "        #     ymin = int(box_info['ymin'])\n",
    "        #     ymax = int(box_info['ymax'])\n",
    "        #     img = cv2.rectangle(img, (xmin, ymin), (xmax, ymax), color, 3)\n",
    "        #     img = cv2.putText(img,cls,(xmin + 5, ymin + 25),cv2.FONT_HERSHEY_SIMPLEX,1,color,3)\n",
    "        plt.figure(figsize=(20,20))\n",
    "        plt.imshow(img)\n",
    "        plt.show()\n",
    "        plt.close()\n",
    "\n",
    "        plt.figure(figsize=(20,20))\n",
    "        plt.imshow(sobel)\n",
    "        # plt.imshow(laplacian)\n",
    "        plt.show()\n",
    "        plt.close()\n",
    "        \n",
    "        # cv2.imwrite(os.path.join(box_path,number+\"/\"+file.replace('.tiff', '.png')), img)\n",
    "        "
   ]
  },
  {
   "cell_type": "code",
   "execution_count": null,
   "metadata": {},
   "outputs": [],
   "source": []
  }
 ],
 "metadata": {
  "interpreter": {
   "hash": "931c51123006e60165af15061917cfb5158bca79165496975f65700b2eb01b27"
  },
  "kernelspec": {
   "display_name": "Python 3.6.9 ('my_utils': venv)",
   "language": "python",
   "name": "python3"
  },
  "language_info": {
   "codemirror_mode": {
    "name": "ipython",
    "version": 3
   },
   "file_extension": ".py",
   "mimetype": "text/x-python",
   "name": "python",
   "nbconvert_exporter": "python",
   "pygments_lexer": "ipython3",
   "version": "3.6.9"
  },
  "orig_nbformat": 4
 },
 "nbformat": 4,
 "nbformat_minor": 2
}
