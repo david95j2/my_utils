{
 "cells": [
  {
   "cell_type": "code",
   "execution_count": 25,
   "metadata": {},
   "outputs": [],
   "source": [
    "import os\n",
    "import json\n",
    "import cv2\n",
    "import xml.etree.ElementTree as Et\n",
    "\n",
    "from tqdm import tqdm"
   ]
  },
  {
   "cell_type": "code",
   "execution_count": 26,
   "metadata": {},
   "outputs": [],
   "source": [
    "# data hunt format(4 points[x,y])\n",
    "c1_path = os.path.expanduser(\"~/Desktop/joo/data/korad/manager/\") # annotation (xml), images \n",
    "\n",
    "ai_hub_path = os.path.expanduser(\"~/Desktop/joo/data/korad/data/\")\n",
    "ai_hub_type = [\"images/\",\"labeling/\"] # 01 ~ 06 (json) / cf. 01 is empty"
   ]
  },
  {
   "cell_type": "markdown",
   "metadata": {},
   "source": [
    "### rename .jpeg.json -> .json"
   ]
  },
  {
   "cell_type": "code",
   "execution_count": null,
   "metadata": {},
   "outputs": [],
   "source": [
    "for number in os.listdir(ai_hub_path+ai_hub_type[1]):\n",
    "    path = ai_hub_path+ai_hub_type[1]+number+'/'\n",
    "    files = next(os.walk(path))\n",
    "    \n",
    "    print(f\"folder {number} start!\")\n",
    "    for index, file in tqdm(enumerate(files[2])):\n",
    "        \n",
    "        if file[-9:] != \"jpeg.json\": # ai_hub 데이터를 업체에서 넘긴게 .jpeg.json으로 보내줌.\n",
    "            print(f\"[Warning!] folder {number} have already done!\\n======================================\")\n",
    "            break\n",
    "\n",
    "        # os.rename(path+file,path+file[:-9]+\"json\")"
   ]
  },
  {
   "cell_type": "markdown",
   "metadata": {},
   "source": [
    "### xml file -> json !!"
   ]
  },
  {
   "cell_type": "code",
   "execution_count": 74,
   "metadata": {},
   "outputs": [
    {
     "name": "stdout",
     "output_type": "stream",
     "text": [
      "c1_ano : 2993, c1_img : 3900\n"
     ]
    },
    {
     "name": "stderr",
     "output_type": "stream",
     "text": [
      "3900it [00:00, 422245.37it/s]\n"
     ]
    }
   ],
   "source": [
    "path,_,c1_files = next(os.walk(os.path.join(c1_path+\"annotation/\"))) # annotation, json\n",
    "c1_files.sort()\n",
    "\n",
    "img_path,_,c1_img_files = next(os.walk(os.path.join(c1_path+\"images/\")))\n",
    "c1_img_files.sort()\n",
    "\n",
    "print(f\"c1_ano : {len(c1_files)}, c1_img : {len(c1_img_files)}\")\n",
    "empty_list = {}\n",
    "\n",
    "for index, file in tqdm(enumerate(c1_img_files)):\n",
    "\n",
    "    if os.path.exists(path+\"C1\"+file[file.index('_'):-4]+\".xml\") == False:\n",
    "        empty_list[file[:-4]] = [\"01\",file, file[:-4]+\".xml\"]\n",
    "        continue\n",
    "    \n",
    "    # if os.path.exists(path+file[:-4]+\".json\") == False:\n",
    "    #     empty_list[file[:-4]] = [\"01\",file, file[:-4]+\".json\"]\n",
    "    #     continue\n",
    "\n",
    "    continue # 제거하면 json 파일 만듬\n",
    "    file = file[:-4]+\".xml\"\n",
    "    root = Et.parse(open(os.path.join(path, file), \"r\")).getroot()\n",
    "\n",
    "    filename = root.find(\"filename\").text\n",
    "    size = root.find(\"size\")\n",
    "    width = int(size.find(\"width\").text)\n",
    "    height = int(size.find(\"height\").text)\n",
    "    objects = root.findall(\"object\")\n",
    "    \n",
    "    json_data = {}\n",
    "    \n",
    "    json_data['images'] = {'id':filename[:-4],\"width\":width,\"height\":height,\"file_name\":filename}\n",
    "    json_data['labels'] = []\n",
    "\n",
    "    for _object in objects:\n",
    "        name = _object.find(\"name\").text\n",
    "        bndbox = _object.find(\"bndbox\")\n",
    "        xmin = int(bndbox.find(\"xmin\").text)\n",
    "        ymin = int(bndbox.find(\"ymin\").text)\n",
    "        xmax = int(bndbox.find(\"xmax\").text)\n",
    "        ymax = int(bndbox.find(\"ymax\").text)\n",
    "        \n",
    "        coordinate = [{\"xmin\":xmin,\"ymin\":ymin,\"xmax\":xmax,\"ymax\":ymax}]\n",
    "        json_data['labels'].append({\"label\": name, \"boundingPloy\":{\"type\":\"RECT\", \"vertices\":coordinate}})\n",
    "    \n",
    "    with open(os.path.expanduser(c1_path+\"json/\"+file[:-4]+\".json\"), 'w', encoding='utf-8') as file:\n",
    "        json.dump(json_data, file)\n"
   ]
  },
  {
   "cell_type": "code",
   "execution_count": 77,
   "metadata": {},
   "outputs": [
    {
     "name": "stdout",
     "output_type": "stream",
     "text": [
      "짝 안맞는 파일 개수 : 907\n"
     ]
    }
   ],
   "source": [
    "print(f\"짝 안맞는 파일 개수 : {len(empty_list)}\")\n",
    "with open(os.path.expanduser(\"./korad_boxes/error_list2.json\"), 'w', encoding='utf-8') as f:\n",
    "    json.dump(empty_list,f)"
   ]
  },
  {
   "cell_type": "code",
   "execution_count": null,
   "metadata": {},
   "outputs": [],
   "source": [
    "ai_img = cv2.imread(os.path.expanduser(\"~/Desktop/joo/data/korad/data/images/01/101_6a1d3941-0615-11ec-919c-a85e4515a1df.tiff\"))\n",
    "\n",
    "manager_img = cv2.imread(os.path.expanduser(\"~/Desktop/joo/data/korad/manager/images/C1_00232.jpg\"))"
   ]
  },
  {
   "cell_type": "code",
   "execution_count": null,
   "metadata": {},
   "outputs": [],
   "source": [
    "print(manager_img[0][10])\n",
    "print()\n",
    "print(ai_img[0][10])\n",
    "print(manager_img[0][10] == ai_img[0][10])"
   ]
  },
  {
   "cell_type": "code",
   "execution_count": null,
   "metadata": {},
   "outputs": [],
   "source": []
  }
 ],
 "metadata": {
  "interpreter": {
   "hash": "931c51123006e60165af15061917cfb5158bca79165496975f65700b2eb01b27"
  },
  "kernelspec": {
   "display_name": "Python 3.6.9 ('my_utils': venv)",
   "language": "python",
   "name": "python3"
  },
  "language_info": {
   "codemirror_mode": {
    "name": "ipython",
    "version": 3
   },
   "file_extension": ".py",
   "mimetype": "text/x-python",
   "name": "python",
   "nbconvert_exporter": "python",
   "pygments_lexer": "ipython3",
   "version": "3.6.9"
  },
  "orig_nbformat": 4
 },
 "nbformat": 4,
 "nbformat_minor": 2
}
