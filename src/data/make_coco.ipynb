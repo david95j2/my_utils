{
 "cells": [
  {
   "cell_type": "code",
   "execution_count": 14,
   "metadata": {},
   "outputs": [],
   "source": [
    "import json\n",
    "import os\n",
    "import xml.etree.ElementTree as Et"
   ]
  },
  {
   "cell_type": "markdown",
   "metadata": {},
   "source": [
    "### VOC box (xmin,ymin,xmax,ymax) to COCO box (xmin,ymin, box-width(xmax-xmin), box-height(ymax-ymin))"
   ]
  },
  {
   "cell_type": "code",
   "execution_count": 20,
   "metadata": {},
   "outputs": [],
   "source": [
    "dataset_path = os.path.expanduser(\"~/Desktop/joo/data/nest/origin/\")\n",
    "dataset_type = [\"train/\",\"val/\",\"test/\"]\n",
    "dataset_type_num = 1\n",
    "\n",
    "IMAGE_FOLDER = \"JPEGImages\"\n",
    "ANNOTATIONS_FOLDER = \"Annotations\"\n",
    "id = 0\n",
    "anno_id = 0\n",
    "\n",
    "ann_root, ann_dir, ann_files = next(os.walk(os.path.join(dataset_path,dataset_type[dataset_type_num], ANNOTATIONS_FOLDER)))\n",
    "ann_files.sort()"
   ]
  },
  {
   "cell_type": "code",
   "execution_count": 21,
   "metadata": {},
   "outputs": [],
   "source": [
    "json_data = {}\n",
    "json_data['info'] = {\"description\": \"\", \"url\": \"\", \"version\": \"\", \"year\": 2022, \"contributor\": \"\", \"data_created\": \"2022-03-28\"}\n",
    "json_data['licenses'] = [{\"id\": 1, \"name\": \"null\", \"url\": \"null\"}]\n",
    "json_data['categories'] = [{\"id\": 1, \"name\": \"nest\", \"supercategory\": \"None\"}]\n",
    "json_data['images'] = []\n",
    "json_data['annotations'] = []\n",
    "\n",
    "with open('../../runs/annotations/instance_'+dataset_type[dataset_type_num][:-1]+'2022.json', 'w', encoding='utf-8') as file:\n",
    "    json.dump(json_data, file)"
   ]
  },
  {
   "cell_type": "code",
   "execution_count": 22,
   "metadata": {},
   "outputs": [
    {
     "name": "stdout",
     "output_type": "stream",
     "text": [
      "val 개수 : 312\n",
      "make val.json end\n"
     ]
    }
   ],
   "source": [
    "with open('../../runs/annotations/instance_'+dataset_type[dataset_type_num][:-1]+'2022.json', 'r', encoding='utf-8') as file:\n",
    "    json_data = json.load(file)\n",
    "\n",
    "print(f\"{dataset_type[dataset_type_num][:-1]} 개수 : {len(ann_files)}\")\n",
    "\n",
    "for index, xml_file in enumerate(ann_files):\n",
    "\n",
    "    root = Et.parse(open(os.path.join(ann_root, xml_file), \"r\")).getroot()\n",
    "\n",
    "    size = root.find(\"size\")\n",
    "    width = int(size.find(\"width\").text)\n",
    "    height = int(size.find(\"height\").text)\n",
    "    objects = root.findall(\"object\")\n",
    "\n",
    "    for _object in objects:\n",
    "        name = _object.find(\"name\").text\n",
    "        bndbox = _object.find(\"bndbox\")\n",
    "        xmin = int(bndbox.find(\"xmin\").text)\n",
    "        ymin = int(bndbox.find(\"ymin\").text)\n",
    "        xmax = int(bndbox.find(\"xmax\").text)\n",
    "        ymax = int(bndbox.find(\"ymax\").text)\n",
    "\n",
    "    json_data['images'].append({'id':id,'file_name':xml_file[:-4]+'.jpg','width':width,'height':height,'date_captured':'2022/3/28',\n",
    "    'license':1,'coco_url':'','flickr_url':''})\n",
    "    json_data['annotations'].append({'id':anno_id,'image_id':id,'category_id':1,'iscrowd':0,'area':0,'bbox':[xmin,ymin,xmax-xmin,ymax-ymin],'segmentation':[]})\n",
    "    id += 1\n",
    "    anno_id += 1\n",
    "\n",
    "with open('../../runs/annotations/instance_'+dataset_type[dataset_type_num][:-1]+'2022.json', 'w', encoding='utf-8') as file:\n",
    "    json.dump(json_data, file)\n",
    "print(f\"make {dataset_type[dataset_type_num][:-1]}.json end\")"
   ]
  },
  {
   "cell_type": "code",
   "execution_count": null,
   "metadata": {},
   "outputs": [],
   "source": []
  }
 ],
 "metadata": {
  "interpreter": {
   "hash": "3a1e0c3fd6bfde654019c6597bc01b0340aa41dd1aa19c1037b8b7c3290c1f6b"
  },
  "kernelspec": {
   "display_name": "Python 3.6.9 ('utils': venv)",
   "language": "python",
   "name": "python3"
  },
  "language_info": {
   "codemirror_mode": {
    "name": "ipython",
    "version": 3
   },
   "file_extension": ".py",
   "mimetype": "text/x-python",
   "name": "python",
   "nbconvert_exporter": "python",
   "pygments_lexer": "ipython3",
   "version": "3.6.9"
  },
  "orig_nbformat": 4
 },
 "nbformat": 4,
 "nbformat_minor": 2
}
