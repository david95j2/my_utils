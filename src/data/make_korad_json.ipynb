{
 "cells": [
  {
   "cell_type": "code",
   "execution_count": 1,
   "metadata": {},
   "outputs": [],
   "source": [
    "import os\n",
    "import cv2\n",
    "import json\n",
    "import random\n",
    "random.seed(77)"
   ]
  },
  {
   "cell_type": "code",
   "execution_count": 6,
   "metadata": {},
   "outputs": [],
   "source": [
    "json_dir_name = os.path.expanduser(\"~/Desktop/joo/data/korad/data/origin/labeling/\")\n",
    "tiff_dir_name = os.path.expanduser(\"~/Desktop/joo/data/korad/data/origin/images/\")\n",
    "save_path = os.path.expanduser(\"~/Desktop/joo/data/korad/data/custom/labeling/\")\n",
    "\n",
    "save_dir = \"./korad_boxes\"\n",
    "\n",
    "numbers = os.listdir(tiff_dir_name)\n",
    "numbers.sort()\n",
    "\n",
    "all_dict = {}"
   ]
  },
  {
   "cell_type": "code",
   "execution_count": 3,
   "metadata": {},
   "outputs": [],
   "source": [
    "classes = ['AlligatorCrack', 'ConcreteCrack', 'Spalling', 'Efflorescene', 'Exposure']\n",
    "\n",
    "colors = []\n",
    "for i in range(len(classes)):\n",
    "    rd1 = random.randint(0, 256)\n",
    "    rd2 = random.randint(0, 256)\n",
    "    rd3 = random.randint(0, 256)\n",
    "    rd_color = (rd1, rd2, rd3)\n",
    "    colors.append(rd_color)\n"
   ]
  },
  {
   "cell_type": "markdown",
   "metadata": {},
   "source": [
    "labeling 이랑 image랑 file 명 맞춰서 dictionary 담기"
   ]
  },
  {
   "cell_type": "code",
   "execution_count": 10,
   "metadata": {},
   "outputs": [],
   "source": [
    "for number in numbers:\n",
    "    json_root,_,json_list = next(os.walk(os.path.join(json_dir_name+number)))\n",
    "    tiff_root,_,tiff_list = next(os.walk(os.path.join(tiff_dir_name+number)))    \n",
    "    json_list.sort()\n",
    "    tiff_list.sort()\n",
    "\n",
    "    pair_dict = {}\n",
    "    for index, tiff_file in enumerate(tiff_list):\n",
    "        index += 1\n",
    "        for json_file in json_list:\n",
    "            if json_file.find(tiff_file[:-5]) == -1 : continue\n",
    "            pair_dict[tiff_file] = [json_file,\"C\"+number+\"_\"+str(index).zfill(5)]\n",
    "            # pair_dict[\"C\"+number+\"_\"+str(index).zfill(5)] = [number,tiff_file,json_file,]\n",
    "            \n",
    "    all_dict[number] = pair_dict\n"
   ]
  },
  {
   "cell_type": "markdown",
   "metadata": {},
   "source": [
    "1번 폴더를 제외한 나머지 폴더 3900개 맞아야 함"
   ]
  },
  {
   "cell_type": "code",
   "execution_count": 12,
   "metadata": {},
   "outputs": [
    {
     "name": "stdout",
     "output_type": "stream",
     "text": [
      "folder 01 count : 0\n",
      "folder 02 count : 3900\n",
      "folder 03 count : 3900\n",
      "folder 04 count : 3900\n",
      "folder 05 count : 3900\n",
      "folder 06 count : 3900\n"
     ]
    }
   ],
   "source": [
    "# 3900 check!!\n",
    "for i in all_dict:\n",
    "    print(f\"folder {i} count : {len(all_dict[i])}\")"
   ]
  },
  {
   "cell_type": "code",
   "execution_count": 187,
   "metadata": {},
   "outputs": [],
   "source": [
    "# json 으로 만들기.\n",
    "# with open(os.path.expanduser(save_dir+\"/pair.json\"), 'w', encoding='utf-8') as file:\n",
    "#     json.dump(all_dict, file)\n",
    "#     pass"
   ]
  },
  {
   "cell_type": "markdown",
   "metadata": {},
   "source": [
    "### json 불러와서 새로운 json 만들기"
   ]
  },
  {
   "cell_type": "code",
   "execution_count": 15,
   "metadata": {},
   "outputs": [],
   "source": [
    "error_list = {}\n",
    "\n",
    "for index, number in enumerate(numbers):\n",
    "    \n",
    "    json_root,_,json_list = next(os.walk(os.path.join(json_dir_name+number)))\n",
    "    tiff_root,_,tiff_list = next(os.walk(os.path.join(tiff_dir_name+number)))    \n",
    "    json_list.sort() \n",
    "    tiff_list.sort()\n",
    "    \n",
    "    if len(tiff_list) == 0: continue\n",
    "    \n",
    "    for tiff_file in tiff_list:\n",
    "        json_file,id = all_dict[number].get(tiff_file)\n",
    "        \n",
    "        # json 불러와서 새로운 json format 만들기\n",
    "        with open(os.path.expanduser(json_root+\"/\"+json_file), 'r', encoding='utf-8') as f:\n",
    "            img_shape = cv2.imread(tiff_root+\"/\"+tiff_file)\n",
    "            height, width,_ = img_shape.shape\n",
    "    \n",
    "            data = json.load(f)\n",
    "            \n",
    "            json_data = {}\n",
    "            json_data['images'] = {'id':id,\"width\":width,\"height\":height,\"file_name\":id+\".tiff\"}\n",
    "            json_data['labels'] = []\n",
    "            try:\n",
    "                for box_info in data['labels']:\n",
    "                    label = box_info['label']\n",
    "                    \n",
    "                    box_info = box_info['boundingPoly']['vertices']\n",
    "                    \n",
    "                    xmin = box_info[0]['x']\n",
    "                    xmax = box_info[2]['x']\n",
    "                    ymin = box_info[0]['y']\n",
    "                    ymax = box_info[2]['y']\n",
    "                    \n",
    "                    coordinate = [{\"xmin\":xmin,\"ymin\":ymin,\"xmax\":xmax,\"ymax\":ymax}]\n",
    "                    json_data['labels'].append({\"label\": label, \"boundingPoly\":{\"type\":\"RECT\", \"vertices\":coordinate}})\n",
    "            except KeyError:\n",
    "                error_list[id] = [number, tiff_file, json_file]\n",
    "\n",
    "        # 새로운 json format 저장하기\n",
    "        # print(save_path+number+\"/\"+id+\".json\")\n",
    "        with open(os.path.expanduser(save_path+number+\"/\"+id+\".json\"), 'w', encoding='utf-8') as f:\n",
    "            json.dump(json_data,f)"
   ]
  },
  {
   "cell_type": "markdown",
   "metadata": {},
   "source": [
    "### 에러 파일들 확인"
   ]
  },
  {
   "cell_type": "code",
   "execution_count": null,
   "metadata": {},
   "outputs": [],
   "source": [
    "error_list\n",
    "with open(os.path.expanduser(\"./korad_boxes/error_list.json\"), 'w', encoding='utf-8') as f:\n",
    "    json.dump(error_list,f)"
   ]
  },
  {
   "cell_type": "markdown",
   "metadata": {},
   "source": [
    "### tiff 이름 변경"
   ]
  },
  {
   "cell_type": "code",
   "execution_count": 208,
   "metadata": {},
   "outputs": [],
   "source": [
    "for number in numbers:\n",
    "    \n",
    "    tiff_root,_,tiff_list = next(os.walk(os.path.join(tiff_dir_name+number)))    \n",
    "    tiff_list.sort()\n",
    "    \n",
    "    if len(tiff_list) == 0: continue\n",
    "    \n",
    "    for tiff_file in tiff_list:\n",
    "        \n",
    "        json_file,id = all_dict[number][tiff_file]\n",
    "        # print(tiff_root)\n",
    "        # print(json_file)\n",
    "        # print(id)\n",
    "\n",
    "        # os.rename(tiff_root+\"/\"+tiff_file,tiff_root+\"/\"+id+tiff_file[-5:])"
   ]
  }
 ],
 "metadata": {
  "interpreter": {
   "hash": "931c51123006e60165af15061917cfb5158bca79165496975f65700b2eb01b27"
  },
  "kernelspec": {
   "display_name": "Python 3.6.9 ('my_utils': venv)",
   "language": "python",
   "name": "python3"
  },
  "language_info": {
   "codemirror_mode": {
    "name": "ipython",
    "version": 3
   },
   "file_extension": ".py",
   "mimetype": "text/x-python",
   "name": "python",
   "nbconvert_exporter": "python",
   "pygments_lexer": "ipython3",
   "version": "3.6.9"
  },
  "orig_nbformat": 4
 },
 "nbformat": 4,
 "nbformat_minor": 2
}
