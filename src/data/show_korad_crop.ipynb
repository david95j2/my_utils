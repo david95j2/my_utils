{
 "cells": [
  {
   "cell_type": "code",
   "execution_count": 1,
   "metadata": {},
   "outputs": [
    {
     "name": "stderr",
     "output_type": "stream",
     "text": [
      "/home/joo/vsc/workspaces/my_utils/my_utils/lib/python3.6/site-packages/tqdm/auto.py:22: TqdmWarning: IProgress not found. Please update jupyter and ipywidgets. See https://ipywidgets.readthedocs.io/en/stable/user_install.html\n",
      "  from .autonotebook import tqdm as notebook_tqdm\n"
     ]
    }
   ],
   "source": [
    "import torch\n",
    "import cv2 \n",
    "import matplotlib.pyplot as plt"
   ]
  },
  {
   "cell_type": "code",
   "execution_count": null,
   "metadata": {},
   "outputs": [],
   "source": [
    "# 모델 anchor box clustering한 결과 \n",
    "model = torch.load('runs/train/yolov5_single_X6/weights/best.pt')['model']\n",
    "\n",
    "m = model.model[-1]  # Detect()\n",
    "m.anchors  # in stride units\n",
    "m.anchor_grid  # in pixel units\n",
    "\n",
    "print(m.anchor_grid)\n",
    "\n",
    "\n",
    "\n",
    "# print(len(m.anchor_grid))\n",
    "# print(torch.Tensor(m.anchor_grid).view(-1,2))\n",
    "\n",
    "\n",
    "# tensor([[ 10.,  13.],\n",
    "#         [ 16.,  30.],\n",
    "#         [ 33.,  23.],\n",
    "#         [ 30.,  61.],\n",
    "#         [ 62.,  45.],\n",
    "#         [ 59., 119.],\n",
    "#         [116.,  90.],\n",
    "#         [156., 198.],\n",
    "#         [373., 326.]])"
   ]
  },
  {
   "cell_type": "code",
   "execution_count": 2,
   "metadata": {},
   "outputs": [
    {
     "ename": "AttributeError",
     "evalue": "'NoneType' object has no attribute 'copy'",
     "output_type": "error",
     "traceback": [
      "\u001b[0;31m---------------------------------------------------------------------------\u001b[0m",
      "\u001b[0;31mAttributeError\u001b[0m                            Traceback (most recent call last)",
      "\u001b[0;32m<ipython-input-2-42f4346f4415>\u001b[0m in \u001b[0;36m<module>\u001b[0;34m\u001b[0m\n\u001b[1;32m      5\u001b[0m \u001b[0;34m\u001b[0m\u001b[0m\n\u001b[1;32m      6\u001b[0m     \u001b[0;31m# 저번 시간에 공부한 shape - 높이 너비 및 채널 수 세 가지 값 반환\u001b[0m\u001b[0;34m\u001b[0m\u001b[0;34m\u001b[0m\u001b[0;34m\u001b[0m\u001b[0m\n\u001b[0;32m----> 7\u001b[0;31m     \u001b[0mimage_copy\u001b[0m \u001b[0;34m=\u001b[0m \u001b[0mimg\u001b[0m\u001b[0;34m.\u001b[0m\u001b[0mcopy\u001b[0m\u001b[0;34m(\u001b[0m\u001b[0;34m)\u001b[0m\u001b[0;34m\u001b[0m\u001b[0;34m\u001b[0m\u001b[0m\n\u001b[0m\u001b[1;32m      8\u001b[0m \u001b[0;34m\u001b[0m\u001b[0m\n\u001b[1;32m      9\u001b[0m     \u001b[0;31m# 높이 가져오기\u001b[0m\u001b[0;34m\u001b[0m\u001b[0;34m\u001b[0m\u001b[0;34m\u001b[0m\u001b[0m\n",
      "\u001b[0;31mAttributeError\u001b[0m: 'NoneType' object has no attribute 'copy'"
     ]
    }
   ],
   "source": [
    "\n",
    "# 이미지 읽기\n",
    "file_name = [\"C02_00036\",\"C04_00186\",\"C04_00207\",\"C04_00211\",\"C04_00216\",\"C04_00221\",\"C04_00225\"]\n",
    "for k in file_name:\n",
    "    img=cv2.imread(\"../korad/images/train2022/\"+k+\".tiff\")\n",
    "\n",
    "    # 저번 시간에 공부한 shape - 높이 너비 및 채널 수 세 가지 값 반환\n",
    "    image_copy = img.copy()\n",
    "\n",
    "    # 높이 가져오기\n",
    "    imgheight=img.shape[0]\n",
    "\n",
    "    # 너비 가져오기\n",
    "    imgwidth=img.shape[1]\n",
    "    \n",
    "    # M = 480\n",
    "    # N = 320\n",
    "    M = 480\n",
    "    N = 320\n",
    "    x1 = 0\n",
    "    y1 = 0\n",
    "\n",
    "    for i, y in enumerate(range(0, imgheight, M)):\n",
    "        for j, x in enumerate(range(0, imgwidth, N)):\n",
    "            if (imgheight - y) < M or (imgwidth - x) < N:\n",
    "                break\n",
    "                \n",
    "            y1 = y + M\n",
    "            x1 = x + N\n",
    "\n",
    "            # # check whether the patch width or height exceeds the image width or height\n",
    "            # if x1 >= imgwidth and y1 >= imgheight:\n",
    "            #     x1 = imgwidth - 1\n",
    "            #     y1 = imgheight - 1\n",
    "            #     tiles = image_copy[y:y+M, x:x+N]\n",
    "            #     # cv2.imwrite('saved_patches_2/'+k+'_'+str(i)+'_'+str(j)+'.jpg', tiles)\n",
    "            #     cv2.rectangle(img, (x, y), (x1, y1), (255, 0, 0), 1)\n",
    "            # elif y1 >= imgheight: # when patch height exceeds the image height\n",
    "            #     y1 = imgheight - 1\n",
    "            #     tiles = image_copy[y:y+M, x:x+N]\n",
    "            #     # cv2.imwrite('saved_patches_2/'+k+'_'+str(i)+'_'+str(j)+'.jpg', tiles)\n",
    "            #     cv2.rectangle(img, (x, y), (x1, y1), (255, 0, 0), 1)\n",
    "            # elif x1 >= imgwidth: # when patch width exceeds the image width\n",
    "            #     x1 = imgwidth - 1\n",
    "            #     tiles = image_copy[y:y+M, x:x+N]\n",
    "            #     # cv2.imwrite('saved_patches_2/'+k+'_'+str(i)+'_'+str(j)+'.jpg', tiles)\n",
    "            #     cv2.rectangle(img, (x, y), (x1, y1), (255, 0, 0), 1)\n",
    "            # else:\n",
    "            #     tiles = image_copy[y:y+M, x:x+N]\n",
    "            #     # cv2.imwrite('saved_patches_2/'+k+'_'+str(i)+'_'+str(j)+'.jpg', tiles)\n",
    "            #     cv2.rectangle(img, (x, y), (x1, y1), (255, 0, 0), 1)\n",
    "\n",
    "            # check whether the patch width or height exceeds the image width or height\n",
    "            if x1 >= imgwidth and y1 >= imgheight:\n",
    "                x1 = imgwidth - 1\n",
    "                y1 = imgheight - 1\n",
    "                tiles = image_copy[y:y+M+50, x:x+N]\n",
    "                cv2.imwrite('saved_patches_3/'+k+'_'+str(i)+'_'+str(j)+'.jpg', tiles)\n",
    "                cv2.rectangle(img, (x, y), (x1, y1+50), (50, 50, 50), 1)\n",
    "            elif y1 >= imgheight: # when patch height exceeds the image height\n",
    "                y1 = imgheight - 1\n",
    "                tiles = image_copy[y:y+M, x:x+N+50]\n",
    "                cv2.imwrite('saved_patches_3/'+k+'_'+str(i)+'_'+str(j)+'.jpg', tiles)\n",
    "                cv2.rectangle(img, (x, y), (x1+50, y1), (0, 0, 255), 1)\n",
    "            elif x1 >= imgwidth: # when patch width exceeds the image width\n",
    "                x1 = imgwidth - 1\n",
    "                tiles = image_copy[y:y+M+50, x:x+N]\n",
    "                cv2.imwrite('saved_patches_3/'+k+'_'+str(i)+'_'+str(j)+'.jpg', tiles)\n",
    "                cv2.rectangle(img, (x, y), (x1, y1+50), (0, 255, 0), 1)\n",
    "            else:\n",
    "                tiles = image_copy[y:y+M+50, x:x+N+50]\n",
    "                cv2.imwrite('saved_patches_3/'+k+'_'+str(i)+'_'+str(j)+'.jpg', tiles)\n",
    "                cv2.rectangle(img, (x, y), (x1+50, y1+50), (255, 0, 0), 1)\n",
    "\n",
    "    \n",
    "    # # 이미지 표시하기\n",
    "    plt.figure(figsize=(20,20))\n",
    "    plt.imshow(img)\n",
    "    plt.show()\n",
    "    plt.close()\n",
    "    break"
   ]
  },
  {
   "cell_type": "code",
   "execution_count": 3,
   "metadata": {},
   "outputs": [
    {
     "ename": "IndexError",
     "evalue": "list index out of range",
     "output_type": "error",
     "traceback": [
      "\u001b[0;31m---------------------------------------------------------------------------\u001b[0m",
      "\u001b[0;31mIndexError\u001b[0m                                Traceback (most recent call last)",
      "\u001b[0;32m<ipython-input-3-674f4704da35>\u001b[0m in \u001b[0;36m<module>\u001b[0;34m\u001b[0m\n\u001b[1;32m      8\u001b[0m     \u001b[0;31m# break\u001b[0m\u001b[0;34m\u001b[0m\u001b[0;34m\u001b[0m\u001b[0;34m\u001b[0m\u001b[0m\n\u001b[1;32m      9\u001b[0m     \u001b[0;32mfor\u001b[0m \u001b[0mg\u001b[0m \u001b[0;32min\u001b[0m \u001b[0mrange\u001b[0m\u001b[0;34m(\u001b[0m\u001b[0;36m24\u001b[0m\u001b[0;34m)\u001b[0m\u001b[0;34m:\u001b[0m\u001b[0;34m\u001b[0m\u001b[0;34m\u001b[0m\u001b[0m\n\u001b[0;32m---> 10\u001b[0;31m         \u001b[0mim_1\u001b[0m \u001b[0;34m=\u001b[0m \u001b[0mcv2\u001b[0m\u001b[0;34m.\u001b[0m\u001b[0mimread\u001b[0m\u001b[0;34m(\u001b[0m\u001b[0mtemp_list\u001b[0m\u001b[0;34m[\u001b[0m\u001b[0mg\u001b[0m\u001b[0;34m]\u001b[0m\u001b[0;34m)\u001b[0m\u001b[0;34m\u001b[0m\u001b[0;34m\u001b[0m\u001b[0m\n\u001b[0m\u001b[1;32m     11\u001b[0m \u001b[0;34m\u001b[0m\u001b[0m\n\u001b[1;32m     12\u001b[0m         \u001b[0mim_v_2\u001b[0m \u001b[0;34m=\u001b[0m \u001b[0mim_1\u001b[0m\u001b[0;34m.\u001b[0m\u001b[0mcopy\u001b[0m\u001b[0;34m(\u001b[0m\u001b[0;34m)\u001b[0m\u001b[0;34m\u001b[0m\u001b[0;34m\u001b[0m\u001b[0m\n",
      "\u001b[0;31mIndexError\u001b[0m: list index out of range"
     ]
    }
   ],
   "source": [
    "import glob\n",
    "file_name = [\"C02_00036\",\"C04_00186\",\"C04_00207\",\"C04_00211\",\"C04_00216\",\"C04_00221\",\"C04_00225\"]\n",
    "for l in file_name:\n",
    "    # if l != \"C02_00036\": break\n",
    "    temp_list = glob.glob(\"./runs/detect/yolov5_single_X6_test32/\"+l+\"_*\")\n",
    "    temp_list.sort()\n",
    "    # print(temp_list[0][38:-7])\n",
    "    # break\n",
    "    for g in range(24):\n",
    "        im_1 = cv2.imread(temp_list[g])\n",
    "\n",
    "        im_v_2 = im_1.copy()\n",
    "        im_v_3 = im_1.copy()\n",
    "\n",
    "        for i in range(3):\n",
    "            for j in range(8):\n",
    "                if j == 0 :\n",
    "                    im_1 = cv2.imread(\"runs/detect/yolov5_single_X6_test32/\"+temp_list[g][38:-7]+str(i)+\"_\"+str(j)+\".jpg\")\n",
    "                    \n",
    "                    continue\n",
    "                im_temp = cv2.imread(\"runs/detect/yolov5_single_X6_test32/\"+temp_list[g][38:-7]+str(i)+\"_\"+str(j)+\".jpg\")\n",
    "                im_v_1 = cv2.hconcat([im_1, im_temp])\n",
    "                im_1 = im_v_1\n",
    "            if i == 0: im_v_2 = im_1; continue\n",
    "            im_v_2 = cv2.vconcat([im_v_2,im_1])    \n",
    "            # break\n",
    "    \n",
    "    print(im_v_2.shape)\n",
    "    plt.figure(figsize=(20,20))\n",
    "    plt.imshow(im_v_2)\n",
    "    plt.show()\n",
    "    plt.close()\n",
    "    \n",
    "    real_detect = cv2.imread(\"./runs/detect/yolov5_single_X6_test2/\"+temp_list[g][38:-8]+\".tiff\")\n",
    "    print(real_detect.shape)\n",
    "    plt.figure(figsize=(15,15))    \n",
    "    plt.imshow(real_detect)\n",
    "    plt.show()\n",
    "    plt.close()"
   ]
  },
  {
   "cell_type": "code",
   "execution_count": 4,
   "metadata": {},
   "outputs": [
    {
     "ename": "IndexError",
     "evalue": "list index out of range",
     "output_type": "error",
     "traceback": [
      "\u001b[0;31m---------------------------------------------------------------------------\u001b[0m",
      "\u001b[0;31mIndexError\u001b[0m                                Traceback (most recent call last)",
      "\u001b[0;32m<ipython-input-4-db88ed30742c>\u001b[0m in \u001b[0;36m<module>\u001b[0;34m\u001b[0m\n\u001b[1;32m     14\u001b[0m     \u001b[0;31m# break\u001b[0m\u001b[0;34m\u001b[0m\u001b[0;34m\u001b[0m\u001b[0;34m\u001b[0m\u001b[0m\n\u001b[1;32m     15\u001b[0m     \u001b[0;32mfor\u001b[0m \u001b[0mg\u001b[0m \u001b[0;32min\u001b[0m \u001b[0mrange\u001b[0m\u001b[0;34m(\u001b[0m\u001b[0;36m24\u001b[0m\u001b[0;34m)\u001b[0m\u001b[0;34m:\u001b[0m\u001b[0;34m\u001b[0m\u001b[0;34m\u001b[0m\u001b[0m\n\u001b[0;32m---> 16\u001b[0;31m         \u001b[0mim_1\u001b[0m \u001b[0;34m=\u001b[0m \u001b[0mcv2\u001b[0m\u001b[0;34m.\u001b[0m\u001b[0mimread\u001b[0m\u001b[0;34m(\u001b[0m\u001b[0mtemp_list\u001b[0m\u001b[0;34m[\u001b[0m\u001b[0mg\u001b[0m\u001b[0;34m]\u001b[0m\u001b[0;34m)\u001b[0m\u001b[0;34m\u001b[0m\u001b[0;34m\u001b[0m\u001b[0m\n\u001b[0m\u001b[1;32m     17\u001b[0m         \u001b[0mim_v_2\u001b[0m \u001b[0;34m=\u001b[0m \u001b[0mim_1\u001b[0m\u001b[0;34m.\u001b[0m\u001b[0mcopy\u001b[0m\u001b[0;34m(\u001b[0m\u001b[0;34m)\u001b[0m\u001b[0;34m\u001b[0m\u001b[0;34m\u001b[0m\u001b[0m\n\u001b[1;32m     18\u001b[0m         \u001b[0mim_v_3\u001b[0m \u001b[0;34m=\u001b[0m \u001b[0mim_1\u001b[0m\u001b[0;34m.\u001b[0m\u001b[0mcopy\u001b[0m\u001b[0;34m(\u001b[0m\u001b[0;34m)\u001b[0m\u001b[0;34m\u001b[0m\u001b[0;34m\u001b[0m\u001b[0m\n",
      "\u001b[0;31mIndexError\u001b[0m: list index out of range"
     ]
    }
   ],
   "source": [
    "import glob\n",
    "file_name = [\"C02_00036\",\"C04_00186\",\"C04_00207\",\"C04_00211\",\"C04_00216\",\"C04_00221\",\"C04_00225\"]\n",
    "folder_path = \"./saved_patches_2/\" # ./saved_patches_2/\n",
    "label_path = \"./runs/detect/yolov5_single_X6_test4/labels/*\"\n",
    "\n",
    "for l in file_name:\n",
    "    if l != \"C02_00036\": break\n",
    "    temp_list = glob.glob(folder_path+l+\"_*\")\n",
    "    temp_list.sort()\n",
    "    # print(temp_list[0][18:]) # C02_00036_0_0.jpg 18\n",
    "    temp_label_list = list(map(lambda x : x[44:], glob.glob(label_path))) # 44\n",
    "    temp_label_list.sort()\n",
    "    # print(temp_label_list) # C02_00036_0_1.txt\n",
    "    # break\n",
    "    for g in range(24):\n",
    "        im_1 = cv2.imread(temp_list[g])\n",
    "        im_v_2 = im_1.copy()\n",
    "        im_v_3 = im_1.copy()\n",
    "\n",
    "        for i in range(3):\n",
    "            for j in range(8):\n",
    "                if j == 0 :\n",
    "                    im_1 = cv2.imread(folder_path+temp_list[g][18:-7]+str(i)+\"_\"+str(j)+\".jpg\") # 18\n",
    "                    # print(im_1.shape)\n",
    "                    try:\n",
    "                        temp_label = temp_label_list[temp_label_list.index(temp_list[g][18:-7]+str(i)+\"_\"+str(j)+\".txt\")]\n",
    "                        with open(label_path[:-1]+temp_label, \"r\") as f: \n",
    "                            for ff in f:\n",
    "                                data = ff.strip().split(\" \")                                \n",
    "                                im_1 = cv2.rectangle(im_1, (int(data[1]), int(data[2])), (int(data[3]), int(data[4])), (0,0,255), 3)\n",
    "                                # plt.imshow(im_1)\n",
    "                                # plt.show()\n",
    "                                # plt.close()\n",
    "                    except ValueError: pass\n",
    "                    continue\n",
    "                # break\n",
    "                \n",
    "                im_temp = cv2.imread(folder_path+temp_list[g][18:-7]+str(i)+\"_\"+str(j)+\".jpg\") # 18\n",
    "                # print(im_temp.shape)\n",
    "                try:\n",
    "                    temp_label = temp_label_list[temp_label_list.index(temp_list[g][18:-7]+str(i)+\"_\"+str(j)+\".txt\")]\n",
    "                    with open(label_path[:-1]+temp_label, \"r\") as f:                             \n",
    "                            for ff in f:\n",
    "                                data = ff.strip().split(\" \")                                \n",
    "                                im_temp = cv2.rectangle(im_temp, (int(data[1]), int(data[2])), (int(data[3]), int(data[4])), (0,0,255), 3)\n",
    "                                # plt.imshow(im_temp)\n",
    "                                # plt.show()\n",
    "                                # plt.close()\n",
    "                \n",
    "                except ValueError: pass\n",
    "                # break\n",
    "                im_v_1 = cv2.hconcat([im_1, im_temp])\n",
    "                im_1 = im_v_1\n",
    "            # break\n",
    "            if i == 0: im_v_2 = im_1; continue\n",
    "            im_v_2 = cv2.vconcat([im_v_2,im_1])\n",
    "            \n",
    "        # break\n",
    "\n",
    "    print(im_v_2.shape)\n",
    "    plt.figure(figsize=(20,20))\n",
    "    plt.imshow(im_v_2)\n",
    "    plt.show()\n",
    "    plt.close()\n",
    "    # print(real_detect.shape)\n",
    "    # real_detect = cv2.imread(\"./runs/detect/yolov5_single_X6_test2/\"+temp_list[g][36:-8]+\".tiff\")\n",
    "    # plt.figure(figsize=(15,15))    \n",
    "    # plt.imshow(real_detect)\n",
    "    # plt.show()\n",
    "    # plt.close()"
   ]
  },
  {
   "cell_type": "code",
   "execution_count": 5,
   "metadata": {},
   "outputs": [
    {
     "ename": "TypeError",
     "evalue": "Image data of dtype object cannot be converted to float",
     "output_type": "error",
     "traceback": [
      "\u001b[0;31m---------------------------------------------------------------------------\u001b[0m",
      "\u001b[0;31mTypeError\u001b[0m                                 Traceback (most recent call last)",
      "\u001b[0;32m<ipython-input-5-41d4f95e8e64>\u001b[0m in \u001b[0;36m<module>\u001b[0;34m\u001b[0m\n\u001b[1;32m     14\u001b[0m             \u001b[0mresult_img\u001b[0m \u001b[0;34m=\u001b[0m \u001b[0mcv2\u001b[0m\u001b[0;34m.\u001b[0m\u001b[0mrectangle\u001b[0m\u001b[0;34m(\u001b[0m\u001b[0mresult_img\u001b[0m\u001b[0;34m,\u001b[0m \u001b[0;34m(\u001b[0m\u001b[0mint\u001b[0m\u001b[0;34m(\u001b[0m\u001b[0mdata\u001b[0m\u001b[0;34m[\u001b[0m\u001b[0;36m1\u001b[0m\u001b[0;34m]\u001b[0m\u001b[0;34m)\u001b[0m \u001b[0;34m+\u001b[0m \u001b[0mn_size\u001b[0m\u001b[0;34m,\u001b[0m \u001b[0mint\u001b[0m\u001b[0;34m(\u001b[0m\u001b[0mdata\u001b[0m\u001b[0;34m[\u001b[0m\u001b[0;36m2\u001b[0m\u001b[0;34m]\u001b[0m\u001b[0;34m)\u001b[0m \u001b[0;34m+\u001b[0m \u001b[0mm_size\u001b[0m\u001b[0;34m)\u001b[0m\u001b[0;34m,\u001b[0m \u001b[0;34m(\u001b[0m\u001b[0mint\u001b[0m\u001b[0;34m(\u001b[0m\u001b[0mdata\u001b[0m\u001b[0;34m[\u001b[0m\u001b[0;36m3\u001b[0m\u001b[0;34m]\u001b[0m\u001b[0;34m)\u001b[0m \u001b[0;34m+\u001b[0m \u001b[0mn_size\u001b[0m\u001b[0;34m,\u001b[0m \u001b[0mint\u001b[0m\u001b[0;34m(\u001b[0m\u001b[0mdata\u001b[0m\u001b[0;34m[\u001b[0m\u001b[0;36m4\u001b[0m\u001b[0;34m]\u001b[0m\u001b[0;34m)\u001b[0m \u001b[0;34m+\u001b[0m \u001b[0mm_size\u001b[0m\u001b[0;34m)\u001b[0m\u001b[0;34m,\u001b[0m \u001b[0;34m(\u001b[0m\u001b[0;36m0\u001b[0m\u001b[0;34m,\u001b[0m\u001b[0;36m0\u001b[0m\u001b[0;34m,\u001b[0m\u001b[0;36m255\u001b[0m\u001b[0;34m)\u001b[0m\u001b[0;34m,\u001b[0m \u001b[0;36m3\u001b[0m\u001b[0;34m)\u001b[0m\u001b[0;34m\u001b[0m\u001b[0;34m\u001b[0m\u001b[0m\n\u001b[1;32m     15\u001b[0m \u001b[0mplt\u001b[0m\u001b[0;34m.\u001b[0m\u001b[0mfigure\u001b[0m\u001b[0;34m(\u001b[0m\u001b[0mfigsize\u001b[0m\u001b[0;34m=\u001b[0m\u001b[0;34m(\u001b[0m\u001b[0;36m20\u001b[0m\u001b[0;34m,\u001b[0m\u001b[0;36m20\u001b[0m\u001b[0;34m)\u001b[0m\u001b[0;34m)\u001b[0m\u001b[0;34m\u001b[0m\u001b[0;34m\u001b[0m\u001b[0m\n\u001b[0;32m---> 16\u001b[0;31m \u001b[0mplt\u001b[0m\u001b[0;34m.\u001b[0m\u001b[0mimshow\u001b[0m\u001b[0;34m(\u001b[0m\u001b[0mresult_img\u001b[0m\u001b[0;34m)\u001b[0m\u001b[0;34m\u001b[0m\u001b[0;34m\u001b[0m\u001b[0m\n\u001b[0m\u001b[1;32m     17\u001b[0m \u001b[0mplt\u001b[0m\u001b[0;34m.\u001b[0m\u001b[0mshow\u001b[0m\u001b[0;34m(\u001b[0m\u001b[0;34m)\u001b[0m\u001b[0;34m\u001b[0m\u001b[0;34m\u001b[0m\u001b[0m\n\u001b[1;32m     18\u001b[0m \u001b[0mplt\u001b[0m\u001b[0;34m.\u001b[0m\u001b[0mclose\u001b[0m\u001b[0;34m(\u001b[0m\u001b[0;34m)\u001b[0m\u001b[0;34m\u001b[0m\u001b[0;34m\u001b[0m\u001b[0m\n",
      "\u001b[0;32m~/vsc/workspaces/my_utils/my_utils/lib/python3.6/site-packages/matplotlib/pyplot.py\u001b[0m in \u001b[0;36mimshow\u001b[0;34m(X, cmap, norm, aspect, interpolation, alpha, vmin, vmax, origin, extent, filternorm, filterrad, resample, url, data, **kwargs)\u001b[0m\n\u001b[1;32m   2728\u001b[0m         \u001b[0mfilternorm\u001b[0m\u001b[0;34m=\u001b[0m\u001b[0mfilternorm\u001b[0m\u001b[0;34m,\u001b[0m \u001b[0mfilterrad\u001b[0m\u001b[0;34m=\u001b[0m\u001b[0mfilterrad\u001b[0m\u001b[0;34m,\u001b[0m \u001b[0mresample\u001b[0m\u001b[0;34m=\u001b[0m\u001b[0mresample\u001b[0m\u001b[0;34m,\u001b[0m\u001b[0;34m\u001b[0m\u001b[0;34m\u001b[0m\u001b[0m\n\u001b[1;32m   2729\u001b[0m         \u001b[0murl\u001b[0m\u001b[0;34m=\u001b[0m\u001b[0murl\u001b[0m\u001b[0;34m,\u001b[0m \u001b[0;34m**\u001b[0m\u001b[0;34m(\u001b[0m\u001b[0;34m{\u001b[0m\u001b[0;34m\"data\"\u001b[0m\u001b[0;34m:\u001b[0m \u001b[0mdata\u001b[0m\u001b[0;34m}\u001b[0m \u001b[0;32mif\u001b[0m \u001b[0mdata\u001b[0m \u001b[0;32mis\u001b[0m \u001b[0;32mnot\u001b[0m \u001b[0;32mNone\u001b[0m \u001b[0;32melse\u001b[0m \u001b[0;34m{\u001b[0m\u001b[0;34m}\u001b[0m\u001b[0;34m)\u001b[0m\u001b[0;34m,\u001b[0m\u001b[0;34m\u001b[0m\u001b[0;34m\u001b[0m\u001b[0m\n\u001b[0;32m-> 2730\u001b[0;31m         **kwargs)\n\u001b[0m\u001b[1;32m   2731\u001b[0m     \u001b[0msci\u001b[0m\u001b[0;34m(\u001b[0m\u001b[0m__ret\u001b[0m\u001b[0;34m)\u001b[0m\u001b[0;34m\u001b[0m\u001b[0;34m\u001b[0m\u001b[0m\n\u001b[1;32m   2732\u001b[0m     \u001b[0;32mreturn\u001b[0m \u001b[0m__ret\u001b[0m\u001b[0;34m\u001b[0m\u001b[0;34m\u001b[0m\u001b[0m\n",
      "\u001b[0;32m~/vsc/workspaces/my_utils/my_utils/lib/python3.6/site-packages/matplotlib/__init__.py\u001b[0m in \u001b[0;36minner\u001b[0;34m(ax, data, *args, **kwargs)\u001b[0m\n\u001b[1;32m   1445\u001b[0m     \u001b[0;32mdef\u001b[0m \u001b[0minner\u001b[0m\u001b[0;34m(\u001b[0m\u001b[0max\u001b[0m\u001b[0;34m,\u001b[0m \u001b[0;34m*\u001b[0m\u001b[0margs\u001b[0m\u001b[0;34m,\u001b[0m \u001b[0mdata\u001b[0m\u001b[0;34m=\u001b[0m\u001b[0;32mNone\u001b[0m\u001b[0;34m,\u001b[0m \u001b[0;34m**\u001b[0m\u001b[0mkwargs\u001b[0m\u001b[0;34m)\u001b[0m\u001b[0;34m:\u001b[0m\u001b[0;34m\u001b[0m\u001b[0;34m\u001b[0m\u001b[0m\n\u001b[1;32m   1446\u001b[0m         \u001b[0;32mif\u001b[0m \u001b[0mdata\u001b[0m \u001b[0;32mis\u001b[0m \u001b[0;32mNone\u001b[0m\u001b[0;34m:\u001b[0m\u001b[0;34m\u001b[0m\u001b[0;34m\u001b[0m\u001b[0m\n\u001b[0;32m-> 1447\u001b[0;31m             \u001b[0;32mreturn\u001b[0m \u001b[0mfunc\u001b[0m\u001b[0;34m(\u001b[0m\u001b[0max\u001b[0m\u001b[0;34m,\u001b[0m \u001b[0;34m*\u001b[0m\u001b[0mmap\u001b[0m\u001b[0;34m(\u001b[0m\u001b[0msanitize_sequence\u001b[0m\u001b[0;34m,\u001b[0m \u001b[0margs\u001b[0m\u001b[0;34m)\u001b[0m\u001b[0;34m,\u001b[0m \u001b[0;34m**\u001b[0m\u001b[0mkwargs\u001b[0m\u001b[0;34m)\u001b[0m\u001b[0;34m\u001b[0m\u001b[0;34m\u001b[0m\u001b[0m\n\u001b[0m\u001b[1;32m   1448\u001b[0m \u001b[0;34m\u001b[0m\u001b[0m\n\u001b[1;32m   1449\u001b[0m         \u001b[0mbound\u001b[0m \u001b[0;34m=\u001b[0m \u001b[0mnew_sig\u001b[0m\u001b[0;34m.\u001b[0m\u001b[0mbind\u001b[0m\u001b[0;34m(\u001b[0m\u001b[0max\u001b[0m\u001b[0;34m,\u001b[0m \u001b[0;34m*\u001b[0m\u001b[0margs\u001b[0m\u001b[0;34m,\u001b[0m \u001b[0;34m**\u001b[0m\u001b[0mkwargs\u001b[0m\u001b[0;34m)\u001b[0m\u001b[0;34m\u001b[0m\u001b[0;34m\u001b[0m\u001b[0m\n",
      "\u001b[0;32m~/vsc/workspaces/my_utils/my_utils/lib/python3.6/site-packages/matplotlib/axes/_axes.py\u001b[0m in \u001b[0;36mimshow\u001b[0;34m(self, X, cmap, norm, aspect, interpolation, alpha, vmin, vmax, origin, extent, filternorm, filterrad, resample, url, **kwargs)\u001b[0m\n\u001b[1;32m   5521\u001b[0m                               resample=resample, **kwargs)\n\u001b[1;32m   5522\u001b[0m \u001b[0;34m\u001b[0m\u001b[0m\n\u001b[0;32m-> 5523\u001b[0;31m         \u001b[0mim\u001b[0m\u001b[0;34m.\u001b[0m\u001b[0mset_data\u001b[0m\u001b[0;34m(\u001b[0m\u001b[0mX\u001b[0m\u001b[0;34m)\u001b[0m\u001b[0;34m\u001b[0m\u001b[0;34m\u001b[0m\u001b[0m\n\u001b[0m\u001b[1;32m   5524\u001b[0m         \u001b[0mim\u001b[0m\u001b[0;34m.\u001b[0m\u001b[0mset_alpha\u001b[0m\u001b[0;34m(\u001b[0m\u001b[0malpha\u001b[0m\u001b[0;34m)\u001b[0m\u001b[0;34m\u001b[0m\u001b[0;34m\u001b[0m\u001b[0m\n\u001b[1;32m   5525\u001b[0m         \u001b[0;32mif\u001b[0m \u001b[0mim\u001b[0m\u001b[0;34m.\u001b[0m\u001b[0mget_clip_path\u001b[0m\u001b[0;34m(\u001b[0m\u001b[0;34m)\u001b[0m \u001b[0;32mis\u001b[0m \u001b[0;32mNone\u001b[0m\u001b[0;34m:\u001b[0m\u001b[0;34m\u001b[0m\u001b[0;34m\u001b[0m\u001b[0m\n",
      "\u001b[0;32m~/vsc/workspaces/my_utils/my_utils/lib/python3.6/site-packages/matplotlib/image.py\u001b[0m in \u001b[0;36mset_data\u001b[0;34m(self, A)\u001b[0m\n\u001b[1;32m    701\u001b[0m                 not np.can_cast(self._A.dtype, float, \"same_kind\")):\n\u001b[1;32m    702\u001b[0m             raise TypeError(\"Image data of dtype {} cannot be converted to \"\n\u001b[0;32m--> 703\u001b[0;31m                             \"float\".format(self._A.dtype))\n\u001b[0m\u001b[1;32m    704\u001b[0m \u001b[0;34m\u001b[0m\u001b[0m\n\u001b[1;32m    705\u001b[0m         \u001b[0;32mif\u001b[0m \u001b[0mself\u001b[0m\u001b[0;34m.\u001b[0m\u001b[0m_A\u001b[0m\u001b[0;34m.\u001b[0m\u001b[0mndim\u001b[0m \u001b[0;34m==\u001b[0m \u001b[0;36m3\u001b[0m \u001b[0;32mand\u001b[0m \u001b[0mself\u001b[0m\u001b[0;34m.\u001b[0m\u001b[0m_A\u001b[0m\u001b[0;34m.\u001b[0m\u001b[0mshape\u001b[0m\u001b[0;34m[\u001b[0m\u001b[0;34m-\u001b[0m\u001b[0;36m1\u001b[0m\u001b[0;34m]\u001b[0m \u001b[0;34m==\u001b[0m \u001b[0;36m1\u001b[0m\u001b[0;34m:\u001b[0m\u001b[0;34m\u001b[0m\u001b[0;34m\u001b[0m\u001b[0m\n",
      "\u001b[0;31mTypeError\u001b[0m: Image data of dtype object cannot be converted to float"
     ]
    },
    {
     "data": {
      "image/png": "[encoded data removed]",
      "text/plain": [
       "<Figure size 1440x1440 with 1 Axes>"
      ]
     },
     "metadata": {
      "needs_background": "light"
     },
     "output_type": "display_data"
    }
   ],
   "source": [
    "result_img = cv2.imread(\"../korad/images/train2022/C02_00036.tiff\")\n",
    "result_label = list(map(lambda x : x[44:], glob.glob(\"./runs/detect/yolov5_single_X6_test4/labels/*\")))\n",
    "result_label.sort()\n",
    "for i in result_label:\n",
    "    \n",
    "    m_size = int(i.split(\"_\")[2]) * 480\n",
    "    n_size = int(i.split(\"_\")[3][:-4]) * 320\n",
    "    # print(m_size, n_size)\n",
    "\n",
    "    with open(\"./runs/detect/yolov5_single_X6_test4/labels/\"+i, \"r\") as f:                             \n",
    "        for ff in f:\n",
    "            data = ff.strip().split(\" \")\n",
    "            # print(data)                     \n",
    "            result_img = cv2.rectangle(result_img, (int(data[1]) + n_size, int(data[2]) + m_size), (int(data[3]) + n_size, int(data[4]) + m_size), (0,0,255), 3)    \n",
    "plt.figure(figsize=(20,20))\n",
    "plt.imshow(result_img)\n",
    "plt.show()\n",
    "plt.close()"
   ]
  },
  {
   "cell_type": "code",
   "execution_count": null,
   "metadata": {},
   "outputs": [],
   "source": [
    "temp_re = cv2.imread(\"./runs/detect/yolov5_single_X6_test2/C02_00036.tiff\")\n",
    "plt.figure(figsize=(20,20))\n",
    "plt.imshow(temp_re)\n",
    "plt.show()\n",
    "plt.close()"
   ]
  },
  {
   "cell_type": "code",
   "execution_count": null,
   "metadata": {},
   "outputs": [],
   "source": []
  }
 ],
 "metadata": {
  "interpreter": {
   "hash": "931c51123006e60165af15061917cfb5158bca79165496975f65700b2eb01b27"
  },
  "kernelspec": {
   "display_name": "Python 3.6.9 ('my_utils': venv)",
   "language": "python",
   "name": "python3"
  },
  "language_info": {
   "codemirror_mode": {
    "name": "ipython",
    "version": 3
   },
   "file_extension": ".py",
   "mimetype": "text/x-python",
   "name": "python",
   "nbconvert_exporter": "python",
   "pygments_lexer": "ipython3",
   "version": "3.6.9"
  },
  "orig_nbformat": 4
 },
 "nbformat": 4,
 "nbformat_minor": 2
}
